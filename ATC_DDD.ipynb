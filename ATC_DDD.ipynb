{
 "cells": [
  {
   "cell_type": "code",
   "execution_count": null,
   "metadata": {},
   "outputs": [],
   "source": [
    "import requests\n",
    "from bs4 import BeautifulSoup\n",
    "import pandas as pd\n",
    "import string\n",
    "from tqdm import tqdm\n",
    "import numpy as np\n",
    "ATC_DDD_URL = \"https://www.whocc.no/atc_ddd_index/?code=\""
   ]
  },
  {
   "cell_type": "code",
   "execution_count": null,
   "metadata": {},
   "outputs": [],
   "source": [
    "def getATC_DDD_Data(targetList, level):\n",
    "    tempList = []\n",
    "    for n in tqdm(targetList):\n",
    "        req = requests.get(ATC_DDD_URL+n)\n",
    "        soup = BeautifulSoup(req.text, 'lxml')\n",
    "        rowDataList = [i.find('a') for i in soup.findAll('b')]\n",
    "        if level == 1:    \n",
    "            rowDataList =rowDataList[:level]\n",
    "        else:\n",
    "            rowDataList =rowDataList[level-1:]\n",
    "        if rowDataList:\n",
    "            for i in rowDataList:\n",
    "                tempList.append((i['href'].split('&')[0].split('=')[1], i.text, ))\n",
    "    return pd.DataFrame(tempList, columns=['href', 'text'])"
   ]
  },
  {
   "cell_type": "code",
   "execution_count": null,
   "metadata": {},
   "outputs": [],
   "source": [
    "ATC_L1 = getATC_DDD_Data(string.ascii_uppercase, 1)\n",
    "ATC_L1.to_excel('ATC_L1.xlsx', index=False)"
   ]
  },
  {
   "cell_type": "code",
   "execution_count": null,
   "metadata": {},
   "outputs": [],
   "source": [
    "ATC_L2 = getATC_DDD_Data(string.ascii_uppercase, 2)\n",
    "ATC_L2.to_excel('ATC_L2.xlsx', index=False)"
   ]
  },
  {
   "cell_type": "code",
   "execution_count": null,
   "metadata": {},
   "outputs": [],
   "source": [
    "ATC_L3 = getATC_DDD_Data(list(ATC_L2['href']), 3)\n",
    "ATC_L3.to_excel('ATC_L3.xlsx', index=False)"
   ]
  },
  {
   "cell_type": "code",
   "execution_count": null,
   "metadata": {},
   "outputs": [],
   "source": [
    "ATC_L4 = getATC_DDD_Data(list(ATC_L3['href']), 4)\n",
    "ATC_L4.to_excel('ATC_L4.xlsx', index=False)"
   ]
  },
  {
   "cell_type": "code",
   "execution_count": null,
   "metadata": {},
   "outputs": [],
   "source": [
    "ATC_L4List = []\n",
    "for i in tqdm(list(ATC_L4['href'])):\n",
    "    req = requests.get(ATC_DDD_URL+i)\n",
    "    soup = BeautifulSoup(req.text, 'lxml')\n",
    "    table = soup.select('ul table')\n",
    "    if(len(table)>0):\n",
    "        Row4DF = pd.read_html(str(table), header=0)[0].fillna('')\n",
    "        for n in Row4DF.index:\n",
    "            if Row4DF.at[n, 'ATC code'] == '':\n",
    "                if n>0:\n",
    "                    Row4DF.at[n, 'ATC code'] = Row4DF.at[n-1, 'ATC code']\n",
    "                else:\n",
    "                    Row4DF.at[n, 'ATC code'] = i           \n",
    "        ATC_L4List.extend(Row4DF.to_dict('r'))"
   ]
  },
  {
   "cell_type": "code",
   "execution_count": null,
   "metadata": {},
   "outputs": [],
   "source": [
    "with pd.ExcelWriter('ATC_DDD.xlsx') as xlsx:\n",
    "    ATC_L1.to_excel(xlsx, sheet_name='ATC_L1', index=False)\n",
    "    ATC_L2.to_excel(xlsx, sheet_name='ATC_L2', index=False)\n",
    "    ATC_L3.to_excel(xlsx, sheet_name='ATC_L3', index=False)\n",
    "    ATC_L4.to_excel(xlsx, sheet_name='ATC_L4', index=False)\n",
    "    pd.DataFrame(ATC_L4List).to_excel(xlsx, sheet_name='ATC_L5', index=False)"
   ]
  },
  {
   "cell_type": "code",
   "execution_count": null,
   "metadata": {},
   "outputs": [],
   "source": []
  }
 ],
 "metadata": {
  "kernelspec": {
   "display_name": "Python 3",
   "language": "python",
   "name": "python3"
  },
  "language_info": {
   "codemirror_mode": {
    "name": "ipython",
    "version": 3
   },
   "file_extension": ".py",
   "mimetype": "text/x-python",
   "name": "python",
   "nbconvert_exporter": "python",
   "pygments_lexer": "ipython3",
   "version": "3.7.6"
  }
 },
 "nbformat": 4,
 "nbformat_minor": 4
}
